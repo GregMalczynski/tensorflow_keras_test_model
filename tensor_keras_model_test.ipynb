{
  "nbformat": 4,
  "nbformat_minor": 0,
  "metadata": {
    "colab": {
      "provenance": []
    },
    "kernelspec": {
      "name": "python3",
      "display_name": "Python 3"
    },
    "language_info": {
      "name": "python"
    }
  },
  "cells": [
    {
      "cell_type": "markdown",
      "source": [
        "Import Libraries"
      ],
      "metadata": {
        "id": "DCz98-2rv1TS"
      }
    },
    {
      "cell_type": "code",
      "source": [
        "import numpy as np\n",
        "from random import randint\n",
        "from sklearn.utils import shuffle\n",
        "from sklearn.preprocessing import MinMaxScaler, StandardScaler\n",
        "\n",
        "import tensorflow as tf\n",
        "from tensorflow import keras\n",
        "from tensorflow.keras.models import Sequential\n",
        "from tensorflow.keras.layers import Activation, Dense, Input\n",
        "from tensorflow.keras.optimizers import Adam\n",
        "from tensorflow.keras.metrics import categorical_crossentropy\n",
        "\n",
        "from sklearn.metrics import confusion_matrix\n",
        "import itertools\n",
        "import matplotlib.pyplot as plt\n"
      ],
      "metadata": {
        "id": "LKQqVf43C4-u"
      },
      "execution_count": 1,
      "outputs": []
    },
    {
      "cell_type": "markdown",
      "source": [
        "Create Train Data"
      ],
      "metadata": {
        "id": "MvsoyTOEbcQm"
      }
    },
    {
      "cell_type": "code",
      "source": [
        "train_samples = []\n",
        "train_labels = []"
      ],
      "metadata": {
        "id": "Ea6cRO5OpkDl"
      },
      "execution_count": 2,
      "outputs": []
    },
    {
      "cell_type": "code",
      "source": [
        "for i in range(50):\n",
        "  random_younger = randint(13,64)\n",
        "  train_samples.append(random_younger)\n",
        "  train_labels.append(1)\n",
        "\n",
        "  random_older = randint(65,100)\n",
        "  train_samples.append(random_older)\n",
        "  train_labels.append(0)\n",
        "\n",
        "for i in range(950):\n",
        "  random_younger = randint(13,64)\n",
        "  train_samples.append(random_younger)\n",
        "  train_labels.append(0)\n",
        "\n",
        "  random_older = randint(65,100)\n",
        "  train_samples.append(random_older)\n",
        "  train_labels.append(1)"
      ],
      "metadata": {
        "id": "A5K4LYVupt9m"
      },
      "execution_count": 3,
      "outputs": []
    },
    {
      "cell_type": "code",
      "source": [
        "train_labels = np.array(train_labels)\n",
        "train_samples = np.array(train_samples)\n",
        "train_labels, train_samples = shuffle(train_labels, train_samples)"
      ],
      "metadata": {
        "id": "H1mKHIeAp-Tx"
      },
      "execution_count": 4,
      "outputs": []
    },
    {
      "cell_type": "code",
      "source": [
        "scaler = MinMaxScaler(feature_range=(0,1))\n",
        "scaled_train_samples = scaler.fit_transform(train_samples.reshape(-1,1))"
      ],
      "metadata": {
        "id": "AEVzxwuN6Z4e"
      },
      "execution_count": 5,
      "outputs": []
    },
    {
      "cell_type": "markdown",
      "source": [
        "Create Keras Model"
      ],
      "metadata": {
        "id": "d5nb7-v2bjj1"
      }
    },
    {
      "cell_type": "code",
      "source": [
        "model = Sequential([\n",
        "    Input(shape=(1,)),\n",
        "    Dense(16, activation='relu'),\n",
        "    Dense(32, activation='relu'),\n",
        "    Dense(64, activation='relu'),\n",
        "    Dense(2, activation='softmax'),\n",
        "])\n",
        "\n",
        "model.summary()"
      ],
      "metadata": {
        "colab": {
          "base_uri": "https://localhost:8080/",
          "height": 257
        },
        "id": "uMxfjBacqDe8",
        "outputId": "e089a50c-b715-4593-e512-faeefc34f1f6"
      },
      "execution_count": 6,
      "outputs": [
        {
          "output_type": "display_data",
          "data": {
            "text/plain": [
              "\u001b[1mModel: \"sequential\"\u001b[0m\n"
            ],
            "text/html": [
              "<pre style=\"white-space:pre;overflow-x:auto;line-height:normal;font-family:Menlo,'DejaVu Sans Mono',consolas,'Courier New',monospace\"><span style=\"font-weight: bold\">Model: \"sequential\"</span>\n",
              "</pre>\n"
            ]
          },
          "metadata": {}
        },
        {
          "output_type": "display_data",
          "data": {
            "text/plain": [
              "┏━━━━━━━━━━━━━━━━━━━━━━━━━━━━━━━━━┳━━━━━━━━━━━━━━━━━━━━━━━━┳━━━━━━━━━━━━━━━┓\n",
              "┃\u001b[1m \u001b[0m\u001b[1mLayer (type)                   \u001b[0m\u001b[1m \u001b[0m┃\u001b[1m \u001b[0m\u001b[1mOutput Shape          \u001b[0m\u001b[1m \u001b[0m┃\u001b[1m \u001b[0m\u001b[1m      Param #\u001b[0m\u001b[1m \u001b[0m┃\n",
              "┡━━━━━━━━━━━━━━━━━━━━━━━━━━━━━━━━━╇━━━━━━━━━━━━━━━━━━━━━━━━╇━━━━━━━━━━━━━━━┩\n",
              "│ dense (\u001b[38;5;33mDense\u001b[0m)                   │ (\u001b[38;5;45mNone\u001b[0m, \u001b[38;5;34m16\u001b[0m)             │            \u001b[38;5;34m32\u001b[0m │\n",
              "├─────────────────────────────────┼────────────────────────┼───────────────┤\n",
              "│ dense_1 (\u001b[38;5;33mDense\u001b[0m)                 │ (\u001b[38;5;45mNone\u001b[0m, \u001b[38;5;34m32\u001b[0m)             │           \u001b[38;5;34m544\u001b[0m │\n",
              "├─────────────────────────────────┼────────────────────────┼───────────────┤\n",
              "│ dense_2 (\u001b[38;5;33mDense\u001b[0m)                 │ (\u001b[38;5;45mNone\u001b[0m, \u001b[38;5;34m64\u001b[0m)             │         \u001b[38;5;34m2,112\u001b[0m │\n",
              "├─────────────────────────────────┼────────────────────────┼───────────────┤\n",
              "│ dense_3 (\u001b[38;5;33mDense\u001b[0m)                 │ (\u001b[38;5;45mNone\u001b[0m, \u001b[38;5;34m2\u001b[0m)              │           \u001b[38;5;34m130\u001b[0m │\n",
              "└─────────────────────────────────┴────────────────────────┴───────────────┘\n"
            ],
            "text/html": [
              "<pre style=\"white-space:pre;overflow-x:auto;line-height:normal;font-family:Menlo,'DejaVu Sans Mono',consolas,'Courier New',monospace\">┏━━━━━━━━━━━━━━━━━━━━━━━━━━━━━━━━━┳━━━━━━━━━━━━━━━━━━━━━━━━┳━━━━━━━━━━━━━━━┓\n",
              "┃<span style=\"font-weight: bold\"> Layer (type)                    </span>┃<span style=\"font-weight: bold\"> Output Shape           </span>┃<span style=\"font-weight: bold\">       Param # </span>┃\n",
              "┡━━━━━━━━━━━━━━━━━━━━━━━━━━━━━━━━━╇━━━━━━━━━━━━━━━━━━━━━━━━╇━━━━━━━━━━━━━━━┩\n",
              "│ dense (<span style=\"color: #0087ff; text-decoration-color: #0087ff\">Dense</span>)                   │ (<span style=\"color: #00d7ff; text-decoration-color: #00d7ff\">None</span>, <span style=\"color: #00af00; text-decoration-color: #00af00\">16</span>)             │            <span style=\"color: #00af00; text-decoration-color: #00af00\">32</span> │\n",
              "├─────────────────────────────────┼────────────────────────┼───────────────┤\n",
              "│ dense_1 (<span style=\"color: #0087ff; text-decoration-color: #0087ff\">Dense</span>)                 │ (<span style=\"color: #00d7ff; text-decoration-color: #00d7ff\">None</span>, <span style=\"color: #00af00; text-decoration-color: #00af00\">32</span>)             │           <span style=\"color: #00af00; text-decoration-color: #00af00\">544</span> │\n",
              "├─────────────────────────────────┼────────────────────────┼───────────────┤\n",
              "│ dense_2 (<span style=\"color: #0087ff; text-decoration-color: #0087ff\">Dense</span>)                 │ (<span style=\"color: #00d7ff; text-decoration-color: #00d7ff\">None</span>, <span style=\"color: #00af00; text-decoration-color: #00af00\">64</span>)             │         <span style=\"color: #00af00; text-decoration-color: #00af00\">2,112</span> │\n",
              "├─────────────────────────────────┼────────────────────────┼───────────────┤\n",
              "│ dense_3 (<span style=\"color: #0087ff; text-decoration-color: #0087ff\">Dense</span>)                 │ (<span style=\"color: #00d7ff; text-decoration-color: #00d7ff\">None</span>, <span style=\"color: #00af00; text-decoration-color: #00af00\">2</span>)              │           <span style=\"color: #00af00; text-decoration-color: #00af00\">130</span> │\n",
              "└─────────────────────────────────┴────────────────────────┴───────────────┘\n",
              "</pre>\n"
            ]
          },
          "metadata": {}
        },
        {
          "output_type": "display_data",
          "data": {
            "text/plain": [
              "\u001b[1m Total params: \u001b[0m\u001b[38;5;34m2,818\u001b[0m (11.01 KB)\n"
            ],
            "text/html": [
              "<pre style=\"white-space:pre;overflow-x:auto;line-height:normal;font-family:Menlo,'DejaVu Sans Mono',consolas,'Courier New',monospace\"><span style=\"font-weight: bold\"> Total params: </span><span style=\"color: #00af00; text-decoration-color: #00af00\">2,818</span> (11.01 KB)\n",
              "</pre>\n"
            ]
          },
          "metadata": {}
        },
        {
          "output_type": "display_data",
          "data": {
            "text/plain": [
              "\u001b[1m Trainable params: \u001b[0m\u001b[38;5;34m2,818\u001b[0m (11.01 KB)\n"
            ],
            "text/html": [
              "<pre style=\"white-space:pre;overflow-x:auto;line-height:normal;font-family:Menlo,'DejaVu Sans Mono',consolas,'Courier New',monospace\"><span style=\"font-weight: bold\"> Trainable params: </span><span style=\"color: #00af00; text-decoration-color: #00af00\">2,818</span> (11.01 KB)\n",
              "</pre>\n"
            ]
          },
          "metadata": {}
        },
        {
          "output_type": "display_data",
          "data": {
            "text/plain": [
              "\u001b[1m Non-trainable params: \u001b[0m\u001b[38;5;34m0\u001b[0m (0.00 B)\n"
            ],
            "text/html": [
              "<pre style=\"white-space:pre;overflow-x:auto;line-height:normal;font-family:Menlo,'DejaVu Sans Mono',consolas,'Courier New',monospace\"><span style=\"font-weight: bold\"> Non-trainable params: </span><span style=\"color: #00af00; text-decoration-color: #00af00\">0</span> (0.00 B)\n",
              "</pre>\n"
            ]
          },
          "metadata": {}
        }
      ]
    },
    {
      "cell_type": "code",
      "source": [
        "model.compile(optimizer=Adam(learning_rate=0.01), loss='sparse_categorical_crossentropy', metrics=['accuracy'])"
      ],
      "metadata": {
        "id": "N8J9-_PcqLk9"
      },
      "execution_count": 7,
      "outputs": []
    },
    {
      "cell_type": "code",
      "source": [
        "model.fit(x=scaled_train_samples, y=train_labels, validation_split=0.1, batch_size=10, epochs=30, shuffle=True, verbose=2)"
      ],
      "metadata": {
        "colab": {
          "base_uri": "https://localhost:8080/",
          "height": 0
        },
        "id": "5H0U7iHZqXZ6",
        "outputId": "afc80629-7767-4e0c-f292-47047cf7128b"
      },
      "execution_count": 8,
      "outputs": [
        {
          "output_type": "stream",
          "name": "stdout",
          "text": [
            "Epoch 1/30\n",
            "180/180 - 5s - 27ms/step - accuracy: 0.8867 - loss: 0.3252 - val_accuracy: 0.9400 - val_loss: 0.2349\n",
            "Epoch 2/30\n",
            "180/180 - 0s - 3ms/step - accuracy: 0.9267 - loss: 0.2597 - val_accuracy: 0.9650 - val_loss: 0.1848\n",
            "Epoch 3/30\n",
            "180/180 - 0s - 3ms/step - accuracy: 0.9322 - loss: 0.2503 - val_accuracy: 0.9000 - val_loss: 0.2595\n",
            "Epoch 4/30\n",
            "180/180 - 0s - 3ms/step - accuracy: 0.9239 - loss: 0.2598 - val_accuracy: 0.9550 - val_loss: 0.1638\n",
            "Epoch 5/30\n",
            "180/180 - 0s - 3ms/step - accuracy: 0.9289 - loss: 0.2550 - val_accuracy: 0.9600 - val_loss: 0.1711\n",
            "Epoch 6/30\n",
            "180/180 - 1s - 4ms/step - accuracy: 0.9261 - loss: 0.2477 - val_accuracy: 0.9250 - val_loss: 0.2286\n",
            "Epoch 7/30\n",
            "180/180 - 1s - 3ms/step - accuracy: 0.9289 - loss: 0.2456 - val_accuracy: 0.9550 - val_loss: 0.1610\n",
            "Epoch 8/30\n",
            "180/180 - 0s - 3ms/step - accuracy: 0.9322 - loss: 0.2385 - val_accuracy: 0.9700 - val_loss: 0.1553\n",
            "Epoch 9/30\n",
            "180/180 - 0s - 3ms/step - accuracy: 0.9200 - loss: 0.2547 - val_accuracy: 0.9550 - val_loss: 0.1711\n",
            "Epoch 10/30\n",
            "180/180 - 0s - 3ms/step - accuracy: 0.9383 - loss: 0.2312 - val_accuracy: 0.9550 - val_loss: 0.1577\n",
            "Epoch 11/30\n",
            "180/180 - 1s - 4ms/step - accuracy: 0.9356 - loss: 0.2363 - val_accuracy: 0.9100 - val_loss: 0.2418\n",
            "Epoch 12/30\n",
            "180/180 - 1s - 3ms/step - accuracy: 0.9211 - loss: 0.2550 - val_accuracy: 0.9550 - val_loss: 0.1659\n",
            "Epoch 13/30\n",
            "180/180 - 1s - 3ms/step - accuracy: 0.9356 - loss: 0.2328 - val_accuracy: 0.9700 - val_loss: 0.1495\n",
            "Epoch 14/30\n",
            "180/180 - 1s - 3ms/step - accuracy: 0.9317 - loss: 0.2389 - val_accuracy: 0.9600 - val_loss: 0.1596\n",
            "Epoch 15/30\n",
            "180/180 - 1s - 3ms/step - accuracy: 0.9294 - loss: 0.2409 - val_accuracy: 0.8550 - val_loss: 0.4704\n",
            "Epoch 16/30\n",
            "180/180 - 0s - 3ms/step - accuracy: 0.9333 - loss: 0.2428 - val_accuracy: 0.9650 - val_loss: 0.1582\n",
            "Epoch 17/30\n",
            "180/180 - 1s - 3ms/step - accuracy: 0.9367 - loss: 0.2295 - val_accuracy: 0.9400 - val_loss: 0.2164\n",
            "Epoch 18/30\n",
            "180/180 - 1s - 3ms/step - accuracy: 0.9328 - loss: 0.2357 - val_accuracy: 0.9100 - val_loss: 0.2117\n",
            "Epoch 19/30\n",
            "180/180 - 1s - 4ms/step - accuracy: 0.9306 - loss: 0.2373 - val_accuracy: 0.9600 - val_loss: 0.1733\n",
            "Epoch 20/30\n",
            "180/180 - 1s - 8ms/step - accuracy: 0.9394 - loss: 0.2199 - val_accuracy: 0.9700 - val_loss: 0.1576\n",
            "Epoch 21/30\n",
            "180/180 - 1s - 7ms/step - accuracy: 0.9378 - loss: 0.2263 - val_accuracy: 0.9400 - val_loss: 0.1873\n",
            "Epoch 22/30\n",
            "180/180 - 1s - 5ms/step - accuracy: 0.9372 - loss: 0.2272 - val_accuracy: 0.9700 - val_loss: 0.1497\n",
            "Epoch 23/30\n",
            "180/180 - 0s - 3ms/step - accuracy: 0.9406 - loss: 0.2275 - val_accuracy: 0.9650 - val_loss: 0.1571\n",
            "Epoch 24/30\n",
            "180/180 - 1s - 3ms/step - accuracy: 0.9406 - loss: 0.2217 - val_accuracy: 0.9700 - val_loss: 0.1531\n",
            "Epoch 25/30\n",
            "180/180 - 1s - 4ms/step - accuracy: 0.9372 - loss: 0.2301 - val_accuracy: 0.9650 - val_loss: 0.1542\n",
            "Epoch 26/30\n",
            "180/180 - 0s - 3ms/step - accuracy: 0.9356 - loss: 0.2233 - val_accuracy: 0.9600 - val_loss: 0.1731\n",
            "Epoch 27/30\n",
            "180/180 - 1s - 3ms/step - accuracy: 0.9406 - loss: 0.2209 - val_accuracy: 0.9700 - val_loss: 0.1575\n",
            "Epoch 28/30\n",
            "180/180 - 1s - 3ms/step - accuracy: 0.9356 - loss: 0.2224 - val_accuracy: 0.9650 - val_loss: 0.1525\n",
            "Epoch 29/30\n",
            "180/180 - 1s - 3ms/step - accuracy: 0.9378 - loss: 0.2285 - val_accuracy: 0.9600 - val_loss: 0.1608\n",
            "Epoch 30/30\n",
            "180/180 - 1s - 3ms/step - accuracy: 0.9306 - loss: 0.2422 - val_accuracy: 0.9700 - val_loss: 0.1570\n"
          ]
        },
        {
          "output_type": "execute_result",
          "data": {
            "text/plain": [
              "<keras.src.callbacks.history.History at 0x7e55546a1d00>"
            ]
          },
          "metadata": {},
          "execution_count": 8
        }
      ]
    },
    {
      "cell_type": "markdown",
      "source": [
        "Create Dataset for Prediction"
      ],
      "metadata": {
        "id": "5amep8kqv9dz"
      }
    },
    {
      "cell_type": "code",
      "source": [
        "test_samples = []\n",
        "test_labels = []"
      ],
      "metadata": {
        "id": "6cNTaFog9slj"
      },
      "execution_count": 9,
      "outputs": []
    },
    {
      "cell_type": "code",
      "source": [
        "for i in range(10):\n",
        "  random_younger = randint(13,64)\n",
        "  test_samples.append(random_younger)\n",
        "  test_labels.append(1)\n",
        "\n",
        "  random_older = randint(65,100)\n",
        "  test_samples.append(random_older)\n",
        "  test_labels.append(0)\n",
        "\n",
        "for i in range(200):\n",
        "  random_younger = randint(13,64)\n",
        "  test_samples.append(random_younger)\n",
        "  test_labels.append(0)\n",
        "\n",
        "  random_older = randint(65,100)\n",
        "  test_samples.append(random_older)\n",
        "  test_labels.append(1)"
      ],
      "metadata": {
        "id": "5kXde7VCBDK7"
      },
      "execution_count": 10,
      "outputs": []
    },
    {
      "cell_type": "code",
      "source": [
        "test_labels = np.array(test_labels)\n",
        "test_samples = np.array(test_samples)\n",
        "test_labels, test_samples = shuffle(test_labels, test_samples)\n",
        "print(test_labels)\n",
        "print(test_samples)"
      ],
      "metadata": {
        "colab": {
          "base_uri": "https://localhost:8080/",
          "height": 0
        },
        "id": "eULZsutZBbOh",
        "outputId": "56c8057b-9f37-4a75-c4f0-5ad8638cb460"
      },
      "execution_count": 11,
      "outputs": [
        {
          "output_type": "stream",
          "name": "stdout",
          "text": [
            "[1 0 1 0 0 0 1 0 0 0 0 1 1 1 0 1 0 0 0 0 1 0 1 1 1 1 1 0 1 1 1 0 0 0 0 0 0\n",
            " 1 0 1 1 0 0 1 0 1 0 0 1 0 1 1 0 1 0 1 1 0 0 1 0 1 0 1 0 0 0 1 0 1 1 1 0 1\n",
            " 1 1 0 1 0 1 1 1 1 1 1 1 0 1 0 1 0 1 1 0 0 0 0 1 1 1 1 0 0 0 0 1 0 0 1 1 1\n",
            " 1 0 1 1 1 1 1 1 0 0 1 1 0 1 0 1 0 1 1 0 0 1 1 1 0 1 0 0 0 1 0 0 0 1 1 1 1\n",
            " 0 1 1 0 0 0 0 0 1 0 1 1 1 0 1 0 0 0 0 1 0 0 0 0 1 1 1 0 0 1 0 1 0 0 1 0 1\n",
            " 0 0 0 0 1 0 0 1 1 1 0 0 0 1 1 0 0 1 1 1 1 1 1 0 0 1 0 0 1 0 1 0 0 1 0 1 0\n",
            " 0 0 1 0 0 1 0 0 0 1 0 1 0 1 1 0 1 0 0 1 1 0 0 1 0 1 0 1 0 0 1 0 0 0 0 1 0\n",
            " 0 0 1 0 0 0 1 0 0 0 1 0 1 0 1 0 1 1 1 0 0 1 1 1 1 0 1 1 1 1 1 1 1 0 1 0 1\n",
            " 0 1 1 0 0 1 1 1 0 0 0 1 0 0 0 1 0 1 0 1 0 0 0 1 0 0 1 1 1 1 1 0 1 1 0 1 0\n",
            " 1 1 0 0 0 1 1 0 0 0 1 0 0 0 0 1 1 0 1 1 0 1 1 1 1 1 0 0 0 0 1 0 1 1 1 0 0\n",
            " 0 1 1 0 1 0 1 0 1 1 1 1 0 0 0 0 1 0 0 0 1 1 1 0 0 1 0 0 1 1 0 1 1 1 0 0 1\n",
            " 1 1 0 1 1 1 0 0 1 1 0 1 1]\n",
            "[100  41  81  72  48  13  91  27  43  36  21  96  88  88  55  72  24  45\n",
            "  21  22  83  40  99  82  53  75  84  16  87  75  79  18  54  18  45  41\n",
            "  62  78  57  75  99  26  50  95  46  99  17  44  94  50  96  74  18 100\n",
            "  25  89  67  31  28  76  51  78  24  87  13  17  26  85  18  92  65  73\n",
            "  30  70  98  78  58  68  61  66  65  81  84  79  89  71  29  78  46  87\n",
            "  16  73  79  40  32  18  15  80  96  85  86  47  63  30  28  91  51  15\n",
            "  70  70  97  77  43  83  95  72  74  82  95  23  56  81  82  54  70  31\n",
            "  65  44  27  81  43  61  92  72  95  39  94  31  54  16  32  58  34  44\n",
            "  68  76  94  69  28  75  98  33  30  60  21  29  74  41  95  85  90  57\n",
            "  92  25  78  15  31  82  63  41  64  59  79  95  86  14  29  98  24  83\n",
            "  40  14  86  13  84  56  61  47  61  67  57  19  97  76  78  61  47  38\n",
            "  86  43  42  14  86  99  84  18  83  91  45  18  75  73  57  78  64  73\n",
            "  43  32  88  30  86  34  29  45  77  56  21  80  27  66  23  77  64  85\n",
            "  49  75  94  42  65  94  18  83  74  14  59  70  84  66  62  82  29  34\n",
            "  66  14  54  55  81  48  58  52  19  79  21  22  82  98  13  47  63  79\n",
            "  48  89  52  73  54  96  65  70  19  55  64  86  85  80  50  93  66  92\n",
            "  94  66  94  82  34  87  45  82  96  94  56  48  19  89  79  85  44  47\n",
            "  18  70  36  54  14  85  45  80  28  98  22  63  32  80  57  39  70  69\n",
            "  87  65  68  64  82  80  52  85  63  96  61  31  22  47  81  75  43  59\n",
            "  28  94  15  17  34  13  80  82  16  87  68  37  78  83  72  81  77  38\n",
            "  50  45  54  82  53  66 100  99  32  62  79  95  89  46  93  50  94  49\n",
            "  94  75  82  71  13  52  23  56  69  44  36  31  87  99  76  14  21  69\n",
            "  62  15  81  68  25  91  73  78  57  26  96  72  21  38  67  71  91  26\n",
            "  26  92  71  48  88  96]\n"
          ]
        }
      ]
    },
    {
      "cell_type": "markdown",
      "source": [
        "Create Model and Train"
      ],
      "metadata": {
        "id": "Ak9xjfwkwcHb"
      }
    },
    {
      "cell_type": "code",
      "source": [
        "scaled_test_samples = scaler.fit_transform(test_samples.reshape(-1,1))"
      ],
      "metadata": {
        "id": "tZuU18WY-IXn"
      },
      "execution_count": 12,
      "outputs": []
    },
    {
      "cell_type": "code",
      "source": [
        "predictions = model.predict(x=scaled_test_samples, batch_size=10, verbose=0)"
      ],
      "metadata": {
        "id": "qaTsvxS_IxaW"
      },
      "execution_count": 19,
      "outputs": []
    },
    {
      "cell_type": "code",
      "source": [
        "rounded_predictions = np.argmax(predictions, axis=-1)\n",
        "rounded_predictions"
      ],
      "metadata": {
        "colab": {
          "base_uri": "https://localhost:8080/",
          "height": 0
        },
        "id": "1dTVMDh9Ti4p",
        "outputId": "bd54348e-0a90-47d4-81d9-9bc598d22d68"
      },
      "execution_count": 14,
      "outputs": [
        {
          "output_type": "execute_result",
          "data": {
            "text/plain": [
              "array([1, 0, 1, 1, 0, 0, 1, 0, 0, 0, 0, 1, 1, 1, 0, 1, 0, 0, 0, 0, 1, 0,\n",
              "       1, 1, 0, 1, 1, 0, 1, 1, 1, 0, 0, 0, 0, 0, 0, 1, 0, 1, 1, 0, 0, 1,\n",
              "       0, 1, 0, 0, 1, 0, 1, 1, 0, 1, 0, 1, 1, 0, 0, 1, 0, 1, 0, 1, 0, 0,\n",
              "       0, 1, 0, 1, 1, 1, 0, 1, 1, 1, 0, 1, 0, 1, 1, 1, 1, 1, 1, 1, 0, 1,\n",
              "       0, 1, 0, 1, 1, 0, 0, 0, 0, 1, 1, 1, 1, 0, 0, 0, 0, 1, 0, 0, 1, 1,\n",
              "       1, 1, 0, 1, 1, 1, 1, 1, 1, 0, 0, 1, 1, 0, 1, 0, 1, 0, 0, 1, 0, 0,\n",
              "       1, 1, 1, 0, 1, 0, 0, 0, 0, 0, 0, 0, 1, 1, 1, 1, 0, 1, 1, 0, 0, 0,\n",
              "       0, 0, 1, 0, 1, 1, 1, 0, 1, 0, 1, 0, 0, 1, 0, 0, 0, 0, 1, 1, 1, 0,\n",
              "       0, 1, 0, 1, 0, 0, 1, 0, 1, 0, 0, 0, 0, 1, 0, 0, 1, 1, 1, 0, 0, 0,\n",
              "       1, 0, 0, 0, 1, 1, 1, 0, 1, 1, 0, 0, 1, 1, 0, 1, 0, 1, 0, 0, 1, 0,\n",
              "       1, 0, 0, 0, 1, 0, 0, 1, 0, 1, 0, 1, 0, 1, 0, 1, 1, 0, 1, 1, 0, 1,\n",
              "       1, 0, 0, 1, 1, 1, 0, 1, 0, 0, 1, 0, 0, 0, 1, 0, 0, 0, 0, 1, 0, 0,\n",
              "       1, 1, 0, 0, 0, 1, 0, 1, 0, 1, 0, 1, 1, 1, 0, 0, 0, 1, 1, 1, 0, 1,\n",
              "       1, 1, 1, 1, 1, 1, 0, 1, 0, 1, 1, 1, 0, 0, 0, 1, 1, 1, 0, 0, 0, 1,\n",
              "       0, 0, 0, 1, 0, 1, 0, 1, 0, 0, 0, 1, 0, 0, 1, 1, 1, 1, 1, 0, 1, 1,\n",
              "       0, 1, 0, 1, 0, 0, 0, 0, 1, 1, 0, 0, 0, 1, 0, 0, 0, 0, 1, 1, 0, 1,\n",
              "       1, 0, 1, 1, 1, 1, 1, 0, 0, 0, 0, 1, 0, 1, 1, 1, 0, 0, 1, 1, 1, 0,\n",
              "       1, 0, 1, 0, 1, 1, 1, 1, 0, 0, 0, 0, 1, 0, 0, 0, 1, 1, 1, 0, 0, 1,\n",
              "       0, 0, 1, 1, 0, 1, 1, 1, 0, 0, 1, 1, 0, 0, 1, 1, 1, 0, 0, 1, 1, 0,\n",
              "       1, 1])"
            ]
          },
          "metadata": {},
          "execution_count": 14
        }
      ]
    },
    {
      "cell_type": "markdown",
      "source": [
        "Confusion Matrix"
      ],
      "metadata": {
        "id": "fymhL1d2SjCk"
      }
    },
    {
      "cell_type": "code",
      "source": [
        "cm = confusion_matrix(y_true=test_labels, y_pred=rounded_predictions)"
      ],
      "metadata": {
        "id": "Wt4XcioOPPsG"
      },
      "execution_count": 15,
      "outputs": []
    },
    {
      "cell_type": "code",
      "source": [
        "def plot_confusion_matrix(cm, classes,\n",
        "                          normalize=False,\n",
        "                          title='Confusion matrix',\n",
        "                          cmap=plt.cm.Blues):\n",
        "\n",
        "\n",
        "  plt.imshow(cm, interpolation='nearest', cmap=cmap)\n",
        "  plt.title(title)\n",
        "  plt.colorbar()\n",
        "  tick_marks = np.arange(len(classes))\n",
        "  plt.xticks(tick_marks, classes, rotation=45)\n",
        "  plt.yticks(tick_marks, classes)\n",
        "\n",
        "  if normalize:\n",
        "    cm = cm.astype('float') / cm.sum(axis=1)[:, np.newaxis]\n",
        "    print(\"Normalized confusion matrix\")\n",
        "  else:\n",
        "    print('Confusion matrix, without normalization')\n",
        "\n",
        "  print(cm)\n",
        "\n",
        "  tresh = cm.max() / 2.\n",
        "  for i, j in itertools.product(range(cm.shape[0]), range(cm.shape[1])):\n",
        "    plt.text(j, i, cm[i, j],\n",
        "             horizontalalignment='center',\n",
        "             color='white' if cm[i, j] > tresh else 'black')\n",
        "\n",
        "  plt.tight_layout()\n",
        "  plt.ylabel('True label')\n",
        "  plt.xlabel('Predicted label')"
      ],
      "metadata": {
        "id": "zdYUesqxPr06"
      },
      "execution_count": 16,
      "outputs": []
    },
    {
      "cell_type": "code",
      "source": [
        "cm_plot_labels = ['no_side_effects', 'had_side_effects']\n",
        "plot_confusion_matrix(cm=cm, classes=cm_plot_labels, title='Confusion Matrix')"
      ],
      "metadata": {
        "colab": {
          "base_uri": "https://localhost:8080/",
          "height": 558
        },
        "id": "YcLFioyFR6AW",
        "outputId": "44a6d326-c08f-4ae6-81f2-2e6e15e741f5"
      },
      "execution_count": 17,
      "outputs": [
        {
          "output_type": "stream",
          "name": "stdout",
          "text": [
            "Confusion matrix, without normalization\n",
            "[[200  10]\n",
            " [ 10 200]]\n"
          ]
        },
        {
          "output_type": "display_data",
          "data": {
            "text/plain": [
              "<Figure size 640x480 with 2 Axes>"
            ],
            "image/png": "[encoded data removed]"
          },
          "metadata": {}
        }
      ]
    },
    {
      "cell_type": "markdown",
      "source": [
        "Save Model"
      ],
      "metadata": {
        "id": "3DdrfGiiZdfZ"
      }
    },
    {
      "cell_type": "code",
      "source": [
        "import os.path\n",
        "if os.path.isfile('models/medical_trial_model.keras') is False:\n",
        "  model.save('models/medical_trial_model.keras')"
      ],
      "metadata": {
        "id": "wUYh939vYixN"
      },
      "execution_count": 18,
      "outputs": []
    }
  ]
}