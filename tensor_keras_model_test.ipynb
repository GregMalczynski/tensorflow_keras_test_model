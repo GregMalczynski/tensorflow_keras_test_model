{
  "nbformat": 4,
  "nbformat_minor": 0,
  "metadata": {
    "colab": {
      "provenance": []
    },
    "kernelspec": {
      "name": "python3",
      "display_name": "Python 3"
    },
    "language_info": {
      "name": "python"
    }
  },
  "cells": [
    {
      "cell_type": "markdown",
      "source": [
        "Import Libraries"
      ],
      "metadata": {
        "id": "DCz98-2rv1TS"
      }
    },
    {
      "cell_type": "code",
      "source": [
        "import numpy as np\n",
        "from random import randint\n",
        "from sklearn.utils import shuffle\n",
        "from sklearn.preprocessing import MinMaxScaler"
      ],
      "metadata": {
        "id": "LKQqVf43C4-u"
      },
      "execution_count": 1,
      "outputs": []
    },
    {
      "cell_type": "markdown",
      "source": [
        "Create Dataset"
      ],
      "metadata": {
        "id": "5amep8kqv9dz"
      }
    },
    {
      "cell_type": "code",
      "source": [
        "train_samples = []\n",
        "train_labels = []"
      ],
      "metadata": {
        "id": "6cNTaFog9slj"
      },
      "execution_count": 2,
      "outputs": []
    },
    {
      "cell_type": "code",
      "source": [
        "for i in range(50):\n",
        "  random_younger = randint(13,64)\n",
        "  train_samples.append(random_younger)\n",
        "  train_labels.append(1)\n",
        "\n",
        "  random_older = randint(65,100)\n",
        "  train_samples.append(random_older)\n",
        "  train_labels.append(0)\n",
        "\n",
        "for i in range(1000):\n",
        "  random_younger = randint(13,64)\n",
        "  train_samples.append(random_younger)\n",
        "  train_labels.append(0)\n",
        "\n",
        "  random_older = randint(65,100)\n",
        "  train_samples.append(random_older)\n",
        "  train_labels.append(1)"
      ],
      "metadata": {
        "id": "5kXde7VCBDK7"
      },
      "execution_count": 3,
      "outputs": []
    },
    {
      "cell_type": "code",
      "source": [
        "train_labels = np.array(train_labels)\n",
        "train_samples = np.array(train_samples)\n",
        "train_labels, train_samples = shuffle(train_labels, train_samples)"
      ],
      "metadata": {
        "id": "eULZsutZBbOh"
      },
      "execution_count": 4,
      "outputs": []
    },
    {
      "cell_type": "markdown",
      "source": [
        "Import Libraries"
      ],
      "metadata": {
        "id": "hcnwUoWKwFTZ"
      }
    },
    {
      "cell_type": "code",
      "source": [
        "import tensorflow as tf\n",
        "from tensorflow import keras\n",
        "from tensorflow.keras.models import Sequential\n",
        "from tensorflow.keras.layers import Activation, Dense, Input\n",
        "from tensorflow.keras.optimizers import Adam\n",
        "from tensorflow.keras.metrics import categorical_crossentropy\n"
      ],
      "metadata": {
        "id": "aUaMMbX4BlML"
      },
      "execution_count": 5,
      "outputs": []
    },
    {
      "cell_type": "markdown",
      "source": [
        "Create Model and Train"
      ],
      "metadata": {
        "id": "Ak9xjfwkwcHb"
      }
    },
    {
      "cell_type": "code",
      "source": [
        "model = Sequential([\n",
        "    Input(shape=(1,)),\n",
        "    Dense(32, activation='relu'),\n",
        "    Dense(64, activation='relu'),\n",
        "    Dense(2, activation='softmax'),\n",
        "])\n",
        "\n",
        "model.summary()"
      ],
      "metadata": {
        "colab": {
          "base_uri": "https://localhost:8080/",
          "height": 225
        },
        "id": "kOjMMzdECITE",
        "outputId": "b1489ad0-7bd5-4f08-984d-0041c46aeaa1"
      },
      "execution_count": 6,
      "outputs": [
        {
          "output_type": "display_data",
          "data": {
            "text/plain": [
              "\u001b[1mModel: \"sequential\"\u001b[0m\n"
            ],
            "text/html": [
              "<pre style=\"white-space:pre;overflow-x:auto;line-height:normal;font-family:Menlo,'DejaVu Sans Mono',consolas,'Courier New',monospace\"><span style=\"font-weight: bold\">Model: \"sequential\"</span>\n",
              "</pre>\n"
            ]
          },
          "metadata": {}
        },
        {
          "output_type": "display_data",
          "data": {
            "text/plain": [
              "┏━━━━━━━━━━━━━━━━━━━━━━━━━━━━━━━━━┳━━━━━━━━━━━━━━━━━━━━━━━━┳━━━━━━━━━━━━━━━┓\n",
              "┃\u001b[1m \u001b[0m\u001b[1mLayer (type)                   \u001b[0m\u001b[1m \u001b[0m┃\u001b[1m \u001b[0m\u001b[1mOutput Shape          \u001b[0m\u001b[1m \u001b[0m┃\u001b[1m \u001b[0m\u001b[1m      Param #\u001b[0m\u001b[1m \u001b[0m┃\n",
              "┡━━━━━━━━━━━━━━━━━━━━━━━━━━━━━━━━━╇━━━━━━━━━━━━━━━━━━━━━━━━╇━━━━━━━━━━━━━━━┩\n",
              "│ dense (\u001b[38;5;33mDense\u001b[0m)                   │ (\u001b[38;5;45mNone\u001b[0m, \u001b[38;5;34m32\u001b[0m)             │            \u001b[38;5;34m64\u001b[0m │\n",
              "├─────────────────────────────────┼────────────────────────┼───────────────┤\n",
              "│ dense_1 (\u001b[38;5;33mDense\u001b[0m)                 │ (\u001b[38;5;45mNone\u001b[0m, \u001b[38;5;34m64\u001b[0m)             │         \u001b[38;5;34m2,112\u001b[0m │\n",
              "├─────────────────────────────────┼────────────────────────┼───────────────┤\n",
              "│ dense_2 (\u001b[38;5;33mDense\u001b[0m)                 │ (\u001b[38;5;45mNone\u001b[0m, \u001b[38;5;34m2\u001b[0m)              │           \u001b[38;5;34m130\u001b[0m │\n",
              "└─────────────────────────────────┴────────────────────────┴───────────────┘\n"
            ],
            "text/html": [
              "<pre style=\"white-space:pre;overflow-x:auto;line-height:normal;font-family:Menlo,'DejaVu Sans Mono',consolas,'Courier New',monospace\">┏━━━━━━━━━━━━━━━━━━━━━━━━━━━━━━━━━┳━━━━━━━━━━━━━━━━━━━━━━━━┳━━━━━━━━━━━━━━━┓\n",
              "┃<span style=\"font-weight: bold\"> Layer (type)                    </span>┃<span style=\"font-weight: bold\"> Output Shape           </span>┃<span style=\"font-weight: bold\">       Param # </span>┃\n",
              "┡━━━━━━━━━━━━━━━━━━━━━━━━━━━━━━━━━╇━━━━━━━━━━━━━━━━━━━━━━━━╇━━━━━━━━━━━━━━━┩\n",
              "│ dense (<span style=\"color: #0087ff; text-decoration-color: #0087ff\">Dense</span>)                   │ (<span style=\"color: #00d7ff; text-decoration-color: #00d7ff\">None</span>, <span style=\"color: #00af00; text-decoration-color: #00af00\">32</span>)             │            <span style=\"color: #00af00; text-decoration-color: #00af00\">64</span> │\n",
              "├─────────────────────────────────┼────────────────────────┼───────────────┤\n",
              "│ dense_1 (<span style=\"color: #0087ff; text-decoration-color: #0087ff\">Dense</span>)                 │ (<span style=\"color: #00d7ff; text-decoration-color: #00d7ff\">None</span>, <span style=\"color: #00af00; text-decoration-color: #00af00\">64</span>)             │         <span style=\"color: #00af00; text-decoration-color: #00af00\">2,112</span> │\n",
              "├─────────────────────────────────┼────────────────────────┼───────────────┤\n",
              "│ dense_2 (<span style=\"color: #0087ff; text-decoration-color: #0087ff\">Dense</span>)                 │ (<span style=\"color: #00d7ff; text-decoration-color: #00d7ff\">None</span>, <span style=\"color: #00af00; text-decoration-color: #00af00\">2</span>)              │           <span style=\"color: #00af00; text-decoration-color: #00af00\">130</span> │\n",
              "└─────────────────────────────────┴────────────────────────┴───────────────┘\n",
              "</pre>\n"
            ]
          },
          "metadata": {}
        },
        {
          "output_type": "display_data",
          "data": {
            "text/plain": [
              "\u001b[1m Total params: \u001b[0m\u001b[38;5;34m2,306\u001b[0m (9.01 KB)\n"
            ],
            "text/html": [
              "<pre style=\"white-space:pre;overflow-x:auto;line-height:normal;font-family:Menlo,'DejaVu Sans Mono',consolas,'Courier New',monospace\"><span style=\"font-weight: bold\"> Total params: </span><span style=\"color: #00af00; text-decoration-color: #00af00\">2,306</span> (9.01 KB)\n",
              "</pre>\n"
            ]
          },
          "metadata": {}
        },
        {
          "output_type": "display_data",
          "data": {
            "text/plain": [
              "\u001b[1m Trainable params: \u001b[0m\u001b[38;5;34m2,306\u001b[0m (9.01 KB)\n"
            ],
            "text/html": [
              "<pre style=\"white-space:pre;overflow-x:auto;line-height:normal;font-family:Menlo,'DejaVu Sans Mono',consolas,'Courier New',monospace\"><span style=\"font-weight: bold\"> Trainable params: </span><span style=\"color: #00af00; text-decoration-color: #00af00\">2,306</span> (9.01 KB)\n",
              "</pre>\n"
            ]
          },
          "metadata": {}
        },
        {
          "output_type": "display_data",
          "data": {
            "text/plain": [
              "\u001b[1m Non-trainable params: \u001b[0m\u001b[38;5;34m0\u001b[0m (0.00 B)\n"
            ],
            "text/html": [
              "<pre style=\"white-space:pre;overflow-x:auto;line-height:normal;font-family:Menlo,'DejaVu Sans Mono',consolas,'Courier New',monospace\"><span style=\"font-weight: bold\"> Non-trainable params: </span><span style=\"color: #00af00; text-decoration-color: #00af00\">0</span> (0.00 B)\n",
              "</pre>\n"
            ]
          },
          "metadata": {}
        }
      ]
    },
    {
      "cell_type": "code",
      "source": [
        "model.compile(optimizer=Adam(learning_rate=0.0001), loss='sparse_categorical_crossentropy', metrics=['accuracy'])"
      ],
      "metadata": {
        "id": "-Z1pBP_IDB5G"
      },
      "execution_count": 7,
      "outputs": []
    },
    {
      "cell_type": "code",
      "source": [
        "model.fit(x=train_samples, y=train_labels, batch_size=10, epochs=40, shuffle=True, verbose=2)"
      ],
      "metadata": {
        "colab": {
          "base_uri": "https://localhost:8080/"
        },
        "id": "8fjVXPfNDH9A",
        "outputId": "5c4db9e4-0d76-4ed0-9c96-7f85d7bf8ef3"
      },
      "execution_count": 8,
      "outputs": [
        {
          "output_type": "stream",
          "name": "stdout",
          "text": [
            "Epoch 1/40\n",
            "210/210 - 1s - 7ms/step - accuracy: 0.5000 - loss: 1.6293\n",
            "Epoch 2/40\n",
            "210/210 - 0s - 2ms/step - accuracy: 0.5229 - loss: 0.6282\n",
            "Epoch 3/40\n",
            "210/210 - 1s - 3ms/step - accuracy: 0.5595 - loss: 0.6158\n",
            "Epoch 4/40\n",
            "210/210 - 1s - 3ms/step - accuracy: 0.6033 - loss: 0.6017\n",
            "Epoch 5/40\n",
            "210/210 - 0s - 2ms/step - accuracy: 0.6295 - loss: 0.5908\n",
            "Epoch 6/40\n",
            "210/210 - 0s - 2ms/step - accuracy: 0.6714 - loss: 0.5769\n",
            "Epoch 7/40\n",
            "210/210 - 1s - 3ms/step - accuracy: 0.6862 - loss: 0.5636\n",
            "Epoch 8/40\n",
            "210/210 - 0s - 2ms/step - accuracy: 0.7205 - loss: 0.5496\n",
            "Epoch 9/40\n",
            "210/210 - 1s - 3ms/step - accuracy: 0.7314 - loss: 0.5402\n",
            "Epoch 10/40\n",
            "210/210 - 1s - 3ms/step - accuracy: 0.7581 - loss: 0.5248\n",
            "Epoch 11/40\n",
            "210/210 - 1s - 3ms/step - accuracy: 0.7762 - loss: 0.5111\n",
            "Epoch 12/40\n",
            "210/210 - 1s - 3ms/step - accuracy: 0.7848 - loss: 0.5006\n",
            "Epoch 13/40\n",
            "210/210 - 1s - 3ms/step - accuracy: 0.8043 - loss: 0.4897\n",
            "Epoch 14/40\n",
            "210/210 - 1s - 3ms/step - accuracy: 0.8076 - loss: 0.4840\n",
            "Epoch 15/40\n",
            "210/210 - 1s - 3ms/step - accuracy: 0.8229 - loss: 0.4653\n",
            "Epoch 16/40\n",
            "210/210 - 1s - 3ms/step - accuracy: 0.8281 - loss: 0.4575\n",
            "Epoch 17/40\n",
            "210/210 - 1s - 3ms/step - accuracy: 0.8433 - loss: 0.4467\n",
            "Epoch 18/40\n",
            "210/210 - 0s - 2ms/step - accuracy: 0.8476 - loss: 0.4385\n",
            "Epoch 19/40\n",
            "210/210 - 1s - 3ms/step - accuracy: 0.8519 - loss: 0.4297\n",
            "Epoch 20/40\n",
            "210/210 - 1s - 3ms/step - accuracy: 0.8600 - loss: 0.4191\n",
            "Epoch 21/40\n",
            "210/210 - 1s - 3ms/step - accuracy: 0.8667 - loss: 0.4108\n",
            "Epoch 22/40\n",
            "210/210 - 1s - 3ms/step - accuracy: 0.8686 - loss: 0.4047\n",
            "Epoch 23/40\n",
            "210/210 - 0s - 2ms/step - accuracy: 0.8710 - loss: 0.3982\n",
            "Epoch 24/40\n",
            "210/210 - 1s - 3ms/step - accuracy: 0.8829 - loss: 0.3896\n",
            "Epoch 25/40\n",
            "210/210 - 1s - 3ms/step - accuracy: 0.8819 - loss: 0.3848\n",
            "Epoch 26/40\n",
            "210/210 - 1s - 3ms/step - accuracy: 0.8819 - loss: 0.3764\n",
            "Epoch 27/40\n",
            "210/210 - 0s - 2ms/step - accuracy: 0.8857 - loss: 0.3711\n",
            "Epoch 28/40\n",
            "210/210 - 1s - 3ms/step - accuracy: 0.8838 - loss: 0.3660\n",
            "Epoch 29/40\n",
            "210/210 - 1s - 3ms/step - accuracy: 0.8910 - loss: 0.3607\n",
            "Epoch 30/40\n",
            "210/210 - 0s - 2ms/step - accuracy: 0.8938 - loss: 0.3580\n",
            "Epoch 31/40\n",
            "210/210 - 0s - 2ms/step - accuracy: 0.8957 - loss: 0.3532\n",
            "Epoch 32/40\n",
            "210/210 - 1s - 3ms/step - accuracy: 0.8971 - loss: 0.3469\n",
            "Epoch 33/40\n",
            "210/210 - 0s - 2ms/step - accuracy: 0.8990 - loss: 0.3450\n",
            "Epoch 34/40\n",
            "210/210 - 1s - 3ms/step - accuracy: 0.9014 - loss: 0.3412\n",
            "Epoch 35/40\n",
            "210/210 - 0s - 2ms/step - accuracy: 0.9048 - loss: 0.3361\n",
            "Epoch 36/40\n",
            "210/210 - 1s - 3ms/step - accuracy: 0.9038 - loss: 0.3341\n",
            "Epoch 37/40\n",
            "210/210 - 0s - 2ms/step - accuracy: 0.9100 - loss: 0.3287\n",
            "Epoch 38/40\n",
            "210/210 - 0s - 2ms/step - accuracy: 0.9086 - loss: 0.3274\n",
            "Epoch 39/40\n",
            "210/210 - 1s - 3ms/step - accuracy: 0.9086 - loss: 0.3274\n",
            "Epoch 40/40\n",
            "210/210 - 1s - 3ms/step - accuracy: 0.9052 - loss: 0.3212\n"
          ]
        },
        {
          "output_type": "execute_result",
          "data": {
            "text/plain": [
              "<keras.src.callbacks.history.History at 0x7f629ee6b860>"
            ]
          },
          "metadata": {},
          "execution_count": 8
        }
      ]
    }
  ]
}